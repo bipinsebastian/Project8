{
 "cells": [
  {
   "cell_type": "markdown",
   "metadata": {},
   "source": [
    " \n",
    "1.  Create a function that accepts any number of countries and creates a graph showing \n",
    "the current temperature for each provided country.\n",
    "\n"
   ]
  },
  {
   "cell_type": "code",
   "execution_count": 53,
   "metadata": {},
   "outputs": [
    {
     "name": "stdout",
     "output_type": "stream",
     "text": [
      "Defaulting to user installation because normal site-packages is not writeable\n",
      "Requirement already satisfied: requests in c:\\users\\gymnasiet\\appdata\\local\\packages\\pythonsoftwarefoundation.python.3.12_qbz5n2kfra8p0\\localcache\\local-packages\\python312\\site-packages (2.32.3)\n",
      "Requirement already satisfied: matplotlib in c:\\users\\gymnasiet\\appdata\\local\\packages\\pythonsoftwarefoundation.python.3.12_qbz5n2kfra8p0\\localcache\\local-packages\\python312\\site-packages (3.9.2)\n",
      "Requirement already satisfied: folium in c:\\users\\gymnasiet\\appdata\\local\\packages\\pythonsoftwarefoundation.python.3.12_qbz5n2kfra8p0\\localcache\\local-packages\\python312\\site-packages (0.18.0)\n",
      "Requirement already satisfied: charset-normalizer<4,>=2 in c:\\users\\gymnasiet\\appdata\\local\\packages\\pythonsoftwarefoundation.python.3.12_qbz5n2kfra8p0\\localcache\\local-packages\\python312\\site-packages (from requests) (3.4.0)\n",
      "Requirement already satisfied: idna<4,>=2.5 in c:\\users\\gymnasiet\\appdata\\local\\packages\\pythonsoftwarefoundation.python.3.12_qbz5n2kfra8p0\\localcache\\local-packages\\python312\\site-packages (from requests) (3.10)\n",
      "Requirement already satisfied: urllib3<3,>=1.21.1 in c:\\users\\gymnasiet\\appdata\\local\\packages\\pythonsoftwarefoundation.python.3.12_qbz5n2kfra8p0\\localcache\\local-packages\\python312\\site-packages (from requests) (2.2.3)\n",
      "Requirement already satisfied: certifi>=2017.4.17 in c:\\users\\gymnasiet\\appdata\\local\\packages\\pythonsoftwarefoundation.python.3.12_qbz5n2kfra8p0\\localcache\\local-packages\\python312\\site-packages (from requests) (2024.8.30)\n",
      "Requirement already satisfied: contourpy>=1.0.1 in c:\\users\\gymnasiet\\appdata\\local\\packages\\pythonsoftwarefoundation.python.3.12_qbz5n2kfra8p0\\localcache\\local-packages\\python312\\site-packages (from matplotlib) (1.3.0)\n",
      "Requirement already satisfied: cycler>=0.10 in c:\\users\\gymnasiet\\appdata\\local\\packages\\pythonsoftwarefoundation.python.3.12_qbz5n2kfra8p0\\localcache\\local-packages\\python312\\site-packages (from matplotlib) (0.12.1)\n",
      "Requirement already satisfied: fonttools>=4.22.0 in c:\\users\\gymnasiet\\appdata\\local\\packages\\pythonsoftwarefoundation.python.3.12_qbz5n2kfra8p0\\localcache\\local-packages\\python312\\site-packages (from matplotlib) (4.54.1)\n",
      "Requirement already satisfied: kiwisolver>=1.3.1 in c:\\users\\gymnasiet\\appdata\\local\\packages\\pythonsoftwarefoundation.python.3.12_qbz5n2kfra8p0\\localcache\\local-packages\\python312\\site-packages (from matplotlib) (1.4.7)\n",
      "Requirement already satisfied: numpy>=1.23 in c:\\users\\gymnasiet\\appdata\\local\\packages\\pythonsoftwarefoundation.python.3.12_qbz5n2kfra8p0\\localcache\\local-packages\\python312\\site-packages (from matplotlib) (2.1.2)\n",
      "Requirement already satisfied: packaging>=20.0 in c:\\users\\gymnasiet\\appdata\\local\\packages\\pythonsoftwarefoundation.python.3.12_qbz5n2kfra8p0\\localcache\\local-packages\\python312\\site-packages (from matplotlib) (23.2)\n",
      "Requirement already satisfied: pillow>=8 in c:\\users\\gymnasiet\\appdata\\local\\packages\\pythonsoftwarefoundation.python.3.12_qbz5n2kfra8p0\\localcache\\local-packages\\python312\\site-packages (from matplotlib) (11.0.0)\n",
      "Requirement already satisfied: pyparsing>=2.3.1 in c:\\users\\gymnasiet\\appdata\\local\\packages\\pythonsoftwarefoundation.python.3.12_qbz5n2kfra8p0\\localcache\\local-packages\\python312\\site-packages (from matplotlib) (3.2.0)\n",
      "Requirement already satisfied: python-dateutil>=2.7 in c:\\users\\gymnasiet\\appdata\\local\\packages\\pythonsoftwarefoundation.python.3.12_qbz5n2kfra8p0\\localcache\\local-packages\\python312\\site-packages (from matplotlib) (2.9.0.post0)\n",
      "Requirement already satisfied: branca>=0.6.0 in c:\\users\\gymnasiet\\appdata\\local\\packages\\pythonsoftwarefoundation.python.3.12_qbz5n2kfra8p0\\localcache\\local-packages\\python312\\site-packages (from folium) (0.8.0)\n",
      "Requirement already satisfied: jinja2>=2.9 in c:\\users\\gymnasiet\\appdata\\local\\packages\\pythonsoftwarefoundation.python.3.12_qbz5n2kfra8p0\\localcache\\local-packages\\python312\\site-packages (from folium) (3.1.4)\n",
      "Requirement already satisfied: xyzservices in c:\\users\\gymnasiet\\appdata\\local\\packages\\pythonsoftwarefoundation.python.3.12_qbz5n2kfra8p0\\localcache\\local-packages\\python312\\site-packages (from folium) (2024.9.0)\n",
      "Requirement already satisfied: MarkupSafe>=2.0 in c:\\users\\gymnasiet\\appdata\\local\\packages\\pythonsoftwarefoundation.python.3.12_qbz5n2kfra8p0\\localcache\\local-packages\\python312\\site-packages (from jinja2>=2.9->folium) (3.0.2)\n",
      "Requirement already satisfied: six>=1.5 in c:\\users\\gymnasiet\\appdata\\local\\packages\\pythonsoftwarefoundation.python.3.12_qbz5n2kfra8p0\\localcache\\local-packages\\python312\\site-packages (from python-dateutil>=2.7->matplotlib) (1.16.0)\n"
     ]
    }
   ],
   "source": [
    "! pip install requests matplotlib folium\n"
   ]
  },
  {
   "cell_type": "code",
   "execution_count": 54,
   "metadata": {},
   "outputs": [
    {
     "name": "stdout",
     "output_type": "stream",
     "text": [
      "{'cod': 401, 'message': 'Invalid API key. Please see https://openweathermap.org/faq#error401 for more info.'}\n"
     ]
    }
   ],
   "source": [
    "import requests\n",
    "\n",
    "api_key = \"your_api_key_here\"  # Replace with your actual key\n",
    "url = f\"http://api.openweathermap.org/data/2.5/weather?q=Stockholm&appid={api_key}\"\n",
    "response = requests.get(url)\n",
    "print(response.json())\n"
   ]
  },
  {
   "cell_type": "code",
   "execution_count": 55,
   "metadata": {},
   "outputs": [],
   "source": [
    "api_key = 'https://api.openweathermap.org/data/2.5/weather?lat={lat}&lon={lon}&appid={API key}'  # Replace with your actual API key\n",
    "url = f'http://api.openweathermap.org/data/2.5/weather?q=Stockholm&appid={api_key}'\n",
    "\n"
   ]
  },
  {
   "cell_type": "code",
   "execution_count": 56,
   "metadata": {},
   "outputs": [
    {
     "name": "stdout",
     "output_type": "stream",
     "text": [
      "Error: 401 - Invalid API key. Please see https://openweathermap.org/faq#error401 for more info.\n"
     ]
    }
   ],
   "source": [
    "import requests\n",
    "\n",
    "# Correctly define your API key without spaces\n",
    "api_key = 'YOUR_API_KEY'  # Replace with your actual OpenWeatherMap API key\n",
    "\n",
    "# Define the city ID (for example, 524901 for Moscow)\n",
    "city_id = '524901'  # Make sure this line is included and executed\n",
    "\n",
    "# Construct the URL using the defined city_id and api_key\n",
    "url = f'http://api.openweathermap.org/data/2.5/forecast?id={city_id}&appid={api_key}'\n",
    "\n",
    "# Make the API request\n",
    "response = requests.get(url)\n",
    "\n",
    "# Check the response status\n",
    "if response.status_code == 200:\n",
    "    data = response.json()\n",
    "    print(data)\n",
    "else:\n",
    "    error_message = response.json().get(\"message\", \"Unknown error\")\n",
    "    print(f\"Error: {response.status_code} - {error_message}\")\n"
   ]
  },
  {
   "cell_type": "code",
   "execution_count": 57,
   "metadata": {},
   "outputs": [
    {
     "name": "stdout",
     "output_type": "stream",
     "text": [
      "Could not retrieve data for Sweden: Invalid API key. Please see https://openweathermap.org/faq#error401 for more info.\n",
      "Could not retrieve data for Norway: Invalid API key. Please see https://openweathermap.org/faq#error401 for more info.\n",
      "Could not retrieve data for Denmark: Invalid API key. Please see https://openweathermap.org/faq#error401 for more info.\n",
      "Could not retrieve data for Spain: Invalid API key. Please see https://openweathermap.org/faq#error401 for more info.\n",
      "Could not retrieve data for Panama: Invalid API key. Please see https://openweathermap.org/faq#error401 for more info.\n"
     ]
    },
    {
     "data": {
      "image/png": "[encoded data removed]",
      "text/plain": [
       "<Figure size 1000x600 with 1 Axes>"
      ]
     },
     "metadata": {},
     "output_type": "display_data"
    }
   ],
   "source": [
    "import requests\n",
    "import matplotlib.pyplot as plt\n",
    "\n",
    "def get_current_temperature(countries, api_key):\n",
    "    temperatures = {}\n",
    "    \n",
    "    for country in countries:\n",
    "        url = f'http://api.openweathermap.org/data/2.5/forecast?id={city_id}&appid={api_key}'\n",
    "        response = requests.get(url)\n",
    "        data = response.json()\n",
    "\n",
    "        if response.status_code == 200:\n",
    "            temperature = data['main']['temp']\n",
    "            temperatures[country] = temperature\n",
    "        else:\n",
    "            print(f\"Could not retrieve data for {country}: {data.get('message', '')}\")\n",
    "\n",
    "    # Plotting the temperatures\n",
    "    plt.figure(figsize=(10, 6))\n",
    "    plt.bar(temperatures.keys(), temperatures.values(), color='skyblue')\n",
    "    plt.title('Current Temperature by Country')\n",
    "    plt.xlabel('Country')\n",
    "    plt.ylabel('Temperature (°C)')\n",
    "    plt.xticks(rotation=45)\n",
    "    plt.grid(axis='y')\n",
    "    plt.show()\n",
    "\n",
    "# Example usage\n",
    "api_key = 'YOUR_API_KEY'  # Replace with your actual API key\n",
    "get_current_temperature(['Sweden', 'Norway', 'Denmark', 'Spain', 'Panama'], api_key)\n"
   ]
  },
  {
   "cell_type": "markdown",
   "metadata": {},
   "source": [
    "2.  Show in a map the current temperature for the following countries Sweden, Norwary, \n",
    "Denmark, Spain, and Panama. The size of the marker is associated to the pressure."
   ]
  },
  {
   "cell_type": "code",
   "execution_count": 58,
   "metadata": {},
   "outputs": [],
   "source": [
    "import folium\n",
    "\n",
    "def show_temperature_map(countries, api_key):\n",
    "    # Create a map centered on Europe\n",
    "    temperature_map = folium.Map(location=[60, 10], zoom_start=3)\n",
    "\n",
    "    for country in countries:\n",
    "        url = f'http://api.openweathermap.org/data/2.5/weather?q={country}&appid={api_key}&units=metric'\n",
    "        response = requests.get(url)\n",
    "        data = response.json()\n",
    "\n",
    "        if response.status_code == 200:\n",
    "            name = data['name']\n",
    "            temperature = data['main']['temp']\n",
    "            pressure = data['main']['pressure']\n",
    "            lat = data['coord']['lat']\n",
    "            lon = data['coord']['lon']\n",
    "\n",
    "            # Create a marker with size based on pressure\n",
    "            folium.CircleMarker(\n",
    "                location=(lat, lon),\n",
    "                radius=pressure / 10,  # Adjust the size factor as needed\n",
    "                color='blue',\n",
    "                fill=True,\n",
    "                fill_opacity=0.6,\n",
    "                popup=f\"{name}: {temperature}°C, Pressure: {pressure} hPa\"\n",
    "            ).add_to(temperature_map)\n",
    "\n",
    "    # Save the map to an HTML file\n",
    "    temperature_map.save('temperature_map.html')\n",
    "\n",
    "# Example usage\n",
    "api_key = 'YOUR_API_KEY'  # Replace with your actual API key\n",
    "show_temperature_map(['Sweden', 'Norway', 'Denmark', 'Spain', 'Panama'], api_key)\n"
   ]
  },
  {
   "cell_type": "code",
   "execution_count": 59,
   "metadata": {},
   "outputs": [
    {
     "name": "stdout",
     "output_type": "stream",
     "text": [
      "Could not retrieve data for Sweden: Invalid API key. Please see https://openweathermap.org/faq#error401 for more info.\n",
      "Could not retrieve data for Norway: Invalid API key. Please see https://openweathermap.org/faq#error401 for more info.\n",
      "Could not retrieve data for Denmark: Invalid API key. Please see https://openweathermap.org/faq#error401 for more info.\n",
      "Could not retrieve data for Spain: Invalid API key. Please see https://openweathermap.org/faq#error401 for more info.\n",
      "Could not retrieve data for Panama: Invalid API key. Please see https://openweathermap.org/faq#error401 for more info.\n"
     ]
    },
    {
     "data": {
      "image/png": "[encoded data removed]",
      "text/plain": [
       "<Figure size 640x480 with 1 Axes>"
      ]
     },
     "metadata": {},
     "output_type": "display_data"
    }
   ],
   "source": [
    "import requests\n",
    "import matplotlib.pyplot as plt\n",
    "import folium\n",
    "\n",
    "# Function to fetch current temperature and pressure for given countries\n",
    "def fetch_weather_data(countries, api_key):\n",
    "    weather_data = {}\n",
    "    for country in countries:\n",
    "        try:\n",
    "            # Fetching weather data for each country\n",
    "            response = requests.get(f'http://api.openweathermap.org/data/2.5/weather?q={country}&appid={api_key}&units=metric')\n",
    "            if response.status_code == 200:\n",
    "                data = response.json()\n",
    "                weather_data[country] = {\n",
    "                    'temperature': data['main']['temp'],\n",
    "                    'pressure': data['main']['pressure'],\n",
    "                    'latitude': data['coord']['lat'],\n",
    "                    'longitude': data['coord']['lon'],\n",
    "                }\n",
    "            else:\n",
    "                print(f\"Could not retrieve data for {country}: {response.json().get('message', 'Unknown error')}\")\n",
    "        except Exception as e:\n",
    "            print(f\"Error fetching data for {country}: {str(e)}\")\n",
    "    return weather_data\n",
    "\n",
    "# Function to create a temperature graph\n",
    "def create_temperature_graph(weather_data):\n",
    "    countries = list(weather_data.keys())\n",
    "    temperatures = [data['temperature'] for data in weather_data.values()]\n",
    "    \n",
    "    plt.bar(countries, temperatures, color='skyblue')\n",
    "    plt.xlabel('Countries')\n",
    "    plt.ylabel('Temperature (°C)')\n",
    "    plt.title('Current Temperatures in Provided Countries')\n",
    "    plt.xticks(rotation=45)\n",
    "    plt.show()\n",
    "\n",
    "# Function to create a temperature map\n",
    "def create_temperature_map(weather_data):\n",
    "    # Initialize the map\n",
    "    m = folium.Map(location=[0, 0], zoom_start=2)\n",
    "    \n",
    "    for country, data in weather_data.items():\n",
    "        # Create a circle marker with size based on pressure\n",
    "        folium.CircleMarker(\n",
    "            location=(data['latitude'], data['longitude']),\n",
    "            radius=data['pressure'] / 10,  # Scale down pressure for better visualization\n",
    "            color='blue',\n",
    "            fill=True,\n",
    "            fill_color='blue',\n",
    "            fill_opacity=0.6,\n",
    "            popup=f\"{country}: {data['temperature']}°C, Pressure: {data['pressure']} hPa\"\n",
    "        ).add_to(m)\n",
    "\n",
    "    return m\n",
    "\n",
    "# Define your OpenWeatherMap API key\n",
    "API_KEY = 'YOUR_API_KEY'  # Replace with your actual API key\n",
    "\n",
    "# List of countries to analyze\n",
    "countries = ['Sweden', 'Norway', 'Denmark', 'Spain', 'Panama']\n",
    "\n",
    "# Fetch weather data\n",
    "weather_data = fetch_weather_data(countries, API_KEY)\n",
    "\n",
    "# Create temperature graph\n",
    "create_temperature_graph(weather_data)\n",
    "\n",
    "# Create and display temperature map\n",
    "temperature_map = create_temperature_map(weather_data)\n",
    "temperature_map.save('temperature_map.html')  # Save the map to an HTML file\n"
   ]
  },
  {
   "cell_type": "code",
   "execution_count": 60,
   "metadata": {},
   "outputs": [
    {
     "name": "stdout",
     "output_type": "stream",
     "text": [
      "Defaulting to user installation because normal site-packages is not writeable\n",
      "Requirement already satisfied: requests in c:\\users\\gymnasiet\\appdata\\local\\packages\\pythonsoftwarefoundation.python.3.12_qbz5n2kfra8p0\\localcache\\local-packages\\python312\\site-packages (2.32.3)\n",
      "Requirement already satisfied: folium in c:\\users\\gymnasiet\\appdata\\local\\packages\\pythonsoftwarefoundation.python.3.12_qbz5n2kfra8p0\\localcache\\local-packages\\python312\\site-packages (0.18.0)\n",
      "Requirement already satisfied: charset-normalizer<4,>=2 in c:\\users\\gymnasiet\\appdata\\local\\packages\\pythonsoftwarefoundation.python.3.12_qbz5n2kfra8p0\\localcache\\local-packages\\python312\\site-packages (from requests) (3.4.0)\n",
      "Requirement already satisfied: idna<4,>=2.5 in c:\\users\\gymnasiet\\appdata\\local\\packages\\pythonsoftwarefoundation.python.3.12_qbz5n2kfra8p0\\localcache\\local-packages\\python312\\site-packages (from requests) (3.10)\n",
      "Requirement already satisfied: urllib3<3,>=1.21.1 in c:\\users\\gymnasiet\\appdata\\local\\packages\\pythonsoftwarefoundation.python.3.12_qbz5n2kfra8p0\\localcache\\local-packages\\python312\\site-packages (from requests) (2.2.3)\n",
      "Requirement already satisfied: certifi>=2017.4.17 in c:\\users\\gymnasiet\\appdata\\local\\packages\\pythonsoftwarefoundation.python.3.12_qbz5n2kfra8p0\\localcache\\local-packages\\python312\\site-packages (from requests) (2024.8.30)\n",
      "Requirement already satisfied: branca>=0.6.0 in c:\\users\\gymnasiet\\appdata\\local\\packages\\pythonsoftwarefoundation.python.3.12_qbz5n2kfra8p0\\localcache\\local-packages\\python312\\site-packages (from folium) (0.8.0)\n",
      "Requirement already satisfied: jinja2>=2.9 in c:\\users\\gymnasiet\\appdata\\local\\packages\\pythonsoftwarefoundation.python.3.12_qbz5n2kfra8p0\\localcache\\local-packages\\python312\\site-packages (from folium) (3.1.4)\n",
      "Requirement already satisfied: numpy in c:\\users\\gymnasiet\\appdata\\local\\packages\\pythonsoftwarefoundation.python.3.12_qbz5n2kfra8p0\\localcache\\local-packages\\python312\\site-packages (from folium) (2.1.2)\n",
      "Requirement already satisfied: xyzservices in c:\\users\\gymnasiet\\appdata\\local\\packages\\pythonsoftwarefoundation.python.3.12_qbz5n2kfra8p0\\localcache\\local-packages\\python312\\site-packages (from folium) (2024.9.0)\n",
      "Requirement already satisfied: MarkupSafe>=2.0 in c:\\users\\gymnasiet\\appdata\\local\\packages\\pythonsoftwarefoundation.python.3.12_qbz5n2kfra8p0\\localcache\\local-packages\\python312\\site-packages (from jinja2>=2.9->folium) (3.0.2)\n"
     ]
    }
   ],
   "source": [
    "! pip install requests folium\n"
   ]
  },
  {
   "cell_type": "code",
   "execution_count": 61,
   "metadata": {},
   "outputs": [
    {
     "name": "stdout",
     "output_type": "stream",
     "text": [
      "Could not retrieve data for Sweden: Invalid API key. Please see https://openweathermap.org/faq#error401 for more info.\n",
      "Could not retrieve data for Norway: Invalid API key. Please see https://openweathermap.org/faq#error401 for more info.\n",
      "Could not retrieve data for Denmark: Invalid API key. Please see https://openweathermap.org/faq#error401 for more info.\n",
      "Could not retrieve data for Spain: Invalid API key. Please see https://openweathermap.org/faq#error401 for more info.\n",
      "Could not retrieve data for Panama: Invalid API key. Please see https://openweathermap.org/faq#error401 for more info.\n"
     ]
    }
   ],
   "source": [
    "import requests\n",
    "import folium\n",
    "\n",
    "# Function to fetch current weather data for the specified countries\n",
    "def fetch_weather_data(countries, api_key):\n",
    "    weather_data = {}\n",
    "    for country in countries:\n",
    "        try:\n",
    "            # Fetch weather data for each country\n",
    "            response = requests.get(f'http://api.openweathermap.org/data/2.5/weather?q={country}&appid={api_key}&units=metric')\n",
    "            if response.status_code == 200:\n",
    "                data = response.json()\n",
    "                weather_data[country] = {\n",
    "                    'temperature': data['main']['temp'],\n",
    "                    'pressure': data['main']['pressure'],\n",
    "                    'latitude': data['coord']['lat'],\n",
    "                    'longitude': data['coord']['lon'],\n",
    "                }\n",
    "            else:\n",
    "                print(f\"Could not retrieve data for {country}: {response.json().get('message', 'Unknown error')}\")\n",
    "        except Exception as e:\n",
    "            print(f\"Error fetching data for {country}: {str(e)}\")\n",
    "    return weather_data\n",
    "\n",
    "# Function to create a temperature map\n",
    "def create_temperature_map(weather_data):\n",
    "    # Initialize the map\n",
    "    m = folium.Map(location=[0, 0], zoom_start=2)\n",
    "    \n",
    "    for country, data in weather_data.items():\n",
    "        # Create a circle marker with size based on pressure\n",
    "        folium.CircleMarker(\n",
    "            location=(data['latitude'], data['longitude']),\n",
    "            radius=data['pressure'] / 10,  # Scale down pressure for better visualization\n",
    "            color='blue',\n",
    "            fill=True,\n",
    "            fill_color='blue',\n",
    "            fill_opacity=0.6,\n",
    "            popup=f\"{country}: {data['temperature']}°C, Pressure: {data['pressure']} hPa\"\n",
    "        ).add_to(m)\n",
    "\n",
    "    return m\n",
    "\n",
    "# Define your OpenWeatherMap API key\n",
    "API_KEY = 'YOUR_API_KEY'  # Replace with your actual API key\n",
    "\n",
    "# List of countries to analyze\n",
    "countries = ['Sweden', 'Norway', 'Denmark', 'Spain', 'Panama']\n",
    "\n",
    "# Fetch weather data\n",
    "weather_data = fetch_weather_data(countries, API_KEY)\n",
    "\n",
    "# Create and display temperature map\n",
    "temperature_map = create_temperature_map(weather_data)\n",
    "temperature_map.save('temperature_map.html')  # Save the map to an HTML file\n",
    "\n",
    "# To display the map in Jupyter Notebook (if using Jupyter):\n",
    "# temperature_map\n"
   ]
  }
 ],
 "metadata": {
  "kernelspec": {
   "display_name": "Python 3",
   "language": "python",
   "name": "python3"
  },
  "language_info": {
   "codemirror_mode": {
    "name": "ipython",
    "version": 3
   },
   "file_extension": ".py",
   "mimetype": "text/x-python",
   "name": "python",
   "nbconvert_exporter": "python",
   "pygments_lexer": "ipython3",
   "version": "3.12.7"
  }
 },
 "nbformat": 4,
 "nbformat_minor": 2
}
